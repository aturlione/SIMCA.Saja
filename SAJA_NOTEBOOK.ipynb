{
 "cells": [
  {
   "cell_type": "markdown",
   "id": "73e7a922",
   "metadata": {
    "heading_collapsed": true
   },
   "source": [
    "# Procedimientos para usar este Notebook"
   ]
  },
  {
   "cell_type": "markdown",
   "id": "b19f39c4",
   "metadata": {
    "hidden": true
   },
   "source": [
    "- Instalar [Anaconda](https://www.anaconda.com/)\n",
    "- Abrir el prompt de Anaconda, dirigirse al directorio de trabajo y activar el entorno virtual:\n",
    "\n",
    "    `conda env create -f entorno_SIMCA.yml`\n",
    "        \n",
    "    `conda activate entorno_SIMCA`\n",
    "\n",
    "\n",
    "- Una vez activado el entorno, ejecutar el siguiente comando en el prompt:\n",
    "\n",
    "    `jupyter notebook`"
   ]
  },
  {
   "cell_type": "markdown",
   "id": "86c2f908",
   "metadata": {
    "hidden": true
   },
   "source": [
    "Ejecutar la siguiente celda para crear directorio para datos custom:"
   ]
  },
  {
   "cell_type": "code",
   "execution_count": 1,
   "id": "718f1d1b",
   "metadata": {
    "ExecuteTime": {
     "end_time": "2023-02-09T17:02:54.533394Z",
     "start_time": "2023-02-09T17:02:54.520374Z"
    },
    "hidden": true
   },
   "outputs": [],
   "source": [
    "#crear directorio Custom  \n",
    "import os\n",
    "if not os.path.exists(\"Custom\"):\n",
    "    os.makedirs(\"Custom\")"
   ]
  },
  {
   "cell_type": "markdown",
   "id": "95f47fa2",
   "metadata": {},
   "source": [
    "# Códigos "
   ]
  },
  {
   "cell_type": "markdown",
   "id": "5ad4723f",
   "metadata": {},
   "source": [
    "Códigos que ejecutan los diferentes móludos de SIMCA por medio de la API https://apiprocess.ihcantabria.com/chambo-apiprocess y devuelven las tablas con resultados."
   ]
  },
  {
   "cell_type": "code",
   "execution_count": 19,
   "id": "cd9ffc70",
   "metadata": {
    "ExecuteTime": {
     "end_time": "2023-02-10T09:49:48.459822Z",
     "start_time": "2023-02-10T09:49:48.445825Z"
    }
   },
   "outputs": [],
   "source": [
    "import json\n",
    "import pandas as pd     \n",
    "import requests    \n",
    "import numpy as np\n",
    "import matplotlib.pyplot as plt"
   ]
  },
  {
   "cell_type": "code",
   "execution_count": 23,
   "id": "b64fc719",
   "metadata": {
    "ExecuteTime": {
     "end_time": "2023-02-10T09:50:01.031059Z",
     "start_time": "2023-02-10T09:50:01.017059Z"
    }
   },
   "outputs": [],
   "source": [
    "def MELCA(sub_catchment_id,initial_date,final_date,series,global_tau,snow_par):\n",
    "\n",
    "    url = \"https://apiprocessdev.ihcantabria.com/chambo-apiprocess/CHAMBO Models/SAJA_BESAYA\"\n",
    "\n",
    "\n",
    "    param = {\n",
    "            \"sub-catchment id\": sub_catchment_id,\n",
    "            \"initial date\": initial_date,\n",
    "            \"final date\": final_date,\n",
    "            \"series\":series,\n",
    "            \"global_tau\":global_tau,\n",
    "            \"snow\":snow_par\n",
    "            }    \n",
    "\n",
    "    print('Runing MELCA ...')\n",
    "\n",
    "    post_np=requests.post(url,  json =param)     \n",
    "    result=pd.DataFrame(json.loads(post_np.text))\n",
    "\n",
    "    print('Writing tables ...')\n",
    "    \n",
    "    if series:\n",
    "        result.to_csv(\"Quality_series.csv\")\n",
    "    else:\n",
    "        result.to_csv(\"MELCA_Output.csv\")  \n",
    "    \n",
    "    return result"
   ]
  },
  {
   "cell_type": "code",
   "execution_count": 24,
   "id": "cd1ec797",
   "metadata": {
    "ExecuteTime": {
     "end_time": "2023-02-10T09:50:01.602303Z",
     "start_time": "2023-02-10T09:50:01.589305Z"
    }
   },
   "outputs": [],
   "source": [
    "#Parámetros\n",
    "sub_catchment_id=1 \n",
    "initial_date=\"00-01-01\"\n",
    "final_date=\"19-31-12\"\n",
    "global_tau=20\n",
    "snow=False"
   ]
  },
  {
   "cell_type": "markdown",
   "id": "ec718fc1",
   "metadata": {},
   "source": [
    "# Módulo MELCA"
   ]
  },
  {
   "cell_type": "code",
   "execution_count": 25,
   "id": "12543e20",
   "metadata": {
    "ExecuteTime": {
     "end_time": "2023-02-10T09:50:10.524798Z",
     "start_time": "2023-02-10T09:50:03.260048Z"
    }
   },
   "outputs": [
    {
     "name": "stdout",
     "output_type": "stream",
     "text": [
      "Runing MELCA ...\n",
      "Writing tables ...\n",
      "Finished\n"
     ]
    }
   ],
   "source": [
    "Resultados_tramos=MELCA(sub_catchment_id,initial_date,final_date,False,global_tau,snow)\n",
    "print('Finished')"
   ]
  },
  {
   "cell_type": "markdown",
   "id": "34a6c41a",
   "metadata": {},
   "source": [
    "### Resultados por tramos:"
   ]
  },
  {
   "cell_type": "code",
   "execution_count": 26,
   "id": "06b469b1",
   "metadata": {
    "ExecuteTime": {
     "end_time": "2023-02-10T09:50:15.104713Z",
     "start_time": "2023-02-10T09:50:15.065585Z"
    }
   },
   "outputs": [
    {
     "data": {
      "text/html": [
       "<div>\n",
       "<style scoped>\n",
       "    .dataframe tbody tr th:only-of-type {\n",
       "        vertical-align: middle;\n",
       "    }\n",
       "\n",
       "    .dataframe tbody tr th {\n",
       "        vertical-align: top;\n",
       "    }\n",
       "\n",
       "    .dataframe thead th {\n",
       "        text-align: right;\n",
       "    }\n",
       "</style>\n",
       "<table border=\"1\" class=\"dataframe\">\n",
       "  <thead>\n",
       "    <tr style=\"text-align: right;\">\n",
       "      <th></th>\n",
       "      <th>area</th>\n",
       "      <th>area_ac</th>\n",
       "      <th>ce_ac</th>\n",
       "      <th>id</th>\n",
       "      <th>petmed</th>\n",
       "      <th>petmed_ac</th>\n",
       "      <th>precmed</th>\n",
       "      <th>precmed_ac</th>\n",
       "      <th>q20_ac</th>\n",
       "      <th>q50_ac</th>\n",
       "      <th>q80_ac</th>\n",
       "      <th>qmed</th>\n",
       "      <th>qmed_ac</th>\n",
       "      <th>qmed_ac_inst</th>\n",
       "      <th>qrmed_ac</th>\n",
       "      <th>smax</th>\n",
       "      <th>tau_tramos</th>\n",
       "    </tr>\n",
       "  </thead>\n",
       "  <tbody>\n",
       "    <tr>\n",
       "      <th>0</th>\n",
       "      <td>20.65</td>\n",
       "      <td>1024.72</td>\n",
       "      <td>0.521664</td>\n",
       "      <td>1</td>\n",
       "      <td>1140.503002</td>\n",
       "      <td>1170.469626</td>\n",
       "      <td>1426.718618</td>\n",
       "      <td>1400.873819</td>\n",
       "      <td>3.567531</td>\n",
       "      <td>9.929130</td>\n",
       "      <td>29.583512</td>\n",
       "      <td>0.495812</td>\n",
       "      <td>23.729623</td>\n",
       "      <td>23.728777</td>\n",
       "      <td>23.246040</td>\n",
       "      <td>94.536271</td>\n",
       "      <td>53.970379</td>\n",
       "    </tr>\n",
       "    <tr>\n",
       "      <th>1</th>\n",
       "      <td>24.65</td>\n",
       "      <td>1004.07</td>\n",
       "      <td>0.521466</td>\n",
       "      <td>2</td>\n",
       "      <td>1155.888148</td>\n",
       "      <td>1171.085929</td>\n",
       "      <td>1418.350301</td>\n",
       "      <td>1400.342288</td>\n",
       "      <td>3.489507</td>\n",
       "      <td>9.732179</td>\n",
       "      <td>28.922108</td>\n",
       "      <td>0.576473</td>\n",
       "      <td>23.233811</td>\n",
       "      <td>23.232987</td>\n",
       "      <td>22.767266</td>\n",
       "      <td>108.437085</td>\n",
       "      <td>19.314803</td>\n",
       "    </tr>\n",
       "    <tr>\n",
       "      <th>2</th>\n",
       "      <td>15.12</td>\n",
       "      <td>974.34</td>\n",
       "      <td>0.521524</td>\n",
       "      <td>3</td>\n",
       "      <td>1232.473882</td>\n",
       "      <td>1171.732896</td>\n",
       "      <td>1416.974138</td>\n",
       "      <td>1400.098245</td>\n",
       "      <td>3.349981</td>\n",
       "      <td>9.440863</td>\n",
       "      <td>27.954189</td>\n",
       "      <td>0.344303</td>\n",
       "      <td>22.544429</td>\n",
       "      <td>22.543634</td>\n",
       "      <td>22.113222</td>\n",
       "      <td>98.132814</td>\n",
       "      <td>16.200591</td>\n",
       "    </tr>\n",
       "    <tr>\n",
       "      <th>3</th>\n",
       "      <td>19.96</td>\n",
       "      <td>475.47</td>\n",
       "      <td>0.526726</td>\n",
       "      <td>4</td>\n",
       "      <td>1203.689600</td>\n",
       "      <td>1203.261182</td>\n",
       "      <td>1445.200076</td>\n",
       "      <td>1444.052185</td>\n",
       "      <td>1.700874</td>\n",
       "      <td>4.797286</td>\n",
       "      <td>14.124270</td>\n",
       "      <td>0.475022</td>\n",
       "      <td>11.460053</td>\n",
       "      <td>11.459656</td>\n",
       "      <td>11.228839</td>\n",
       "      <td>102.820311</td>\n",
       "      <td>7.112691</td>\n",
       "    </tr>\n",
       "    <tr>\n",
       "      <th>4</th>\n",
       "      <td>5.08</td>\n",
       "      <td>5.08</td>\n",
       "      <td>0.515827</td>\n",
       "      <td>5</td>\n",
       "      <td>1120.743345</td>\n",
       "      <td>1120.743345</td>\n",
       "      <td>1359.768050</td>\n",
       "      <td>1359.768050</td>\n",
       "      <td>0.016432</td>\n",
       "      <td>0.043531</td>\n",
       "      <td>0.139631</td>\n",
       "      <td>0.112909</td>\n",
       "      <td>0.112909</td>\n",
       "      <td>0.112905</td>\n",
       "      <td>0.112909</td>\n",
       "      <td>119.294433</td>\n",
       "      <td>3.751129</td>\n",
       "    </tr>\n",
       "    <tr>\n",
       "      <th>...</th>\n",
       "      <td>...</td>\n",
       "      <td>...</td>\n",
       "      <td>...</td>\n",
       "      <td>...</td>\n",
       "      <td>...</td>\n",
       "      <td>...</td>\n",
       "      <td>...</td>\n",
       "      <td>...</td>\n",
       "      <td>...</td>\n",
       "      <td>...</td>\n",
       "      <td>...</td>\n",
       "      <td>...</td>\n",
       "      <td>...</td>\n",
       "      <td>...</td>\n",
       "      <td>...</td>\n",
       "      <td>...</td>\n",
       "      <td>...</td>\n",
       "    </tr>\n",
       "    <tr>\n",
       "      <th>56</th>\n",
       "      <td>8.78</td>\n",
       "      <td>8.78</td>\n",
       "      <td>0.514268</td>\n",
       "      <td>57</td>\n",
       "      <td>1094.562920</td>\n",
       "      <td>1094.562920</td>\n",
       "      <td>1320.330389</td>\n",
       "      <td>1320.330389</td>\n",
       "      <td>0.028519</td>\n",
       "      <td>0.092302</td>\n",
       "      <td>0.255085</td>\n",
       "      <td>0.188913</td>\n",
       "      <td>0.188913</td>\n",
       "      <td>0.188909</td>\n",
       "      <td>0.188913</td>\n",
       "      <td>142.463175</td>\n",
       "      <td>2.375006</td>\n",
       "    </tr>\n",
       "    <tr>\n",
       "      <th>57</th>\n",
       "      <td>13.30</td>\n",
       "      <td>41.58</td>\n",
       "      <td>0.478318</td>\n",
       "      <td>58</td>\n",
       "      <td>1097.768205</td>\n",
       "      <td>1109.008055</td>\n",
       "      <td>1189.818277</td>\n",
       "      <td>1148.564042</td>\n",
       "      <td>0.082100</td>\n",
       "      <td>0.317070</td>\n",
       "      <td>0.961296</td>\n",
       "      <td>0.247485</td>\n",
       "      <td>0.723856</td>\n",
       "      <td>0.723837</td>\n",
       "      <td>0.723519</td>\n",
       "      <td>111.588953</td>\n",
       "      <td>5.540312</td>\n",
       "    </tr>\n",
       "    <tr>\n",
       "      <th>58</th>\n",
       "      <td>9.34</td>\n",
       "      <td>9.34</td>\n",
       "      <td>0.482994</td>\n",
       "      <td>59</td>\n",
       "      <td>1106.895657</td>\n",
       "      <td>1106.895657</td>\n",
       "      <td>1190.992177</td>\n",
       "      <td>1190.992177</td>\n",
       "      <td>0.022138</td>\n",
       "      <td>0.079605</td>\n",
       "      <td>0.229193</td>\n",
       "      <td>0.170252</td>\n",
       "      <td>0.170252</td>\n",
       "      <td>0.170248</td>\n",
       "      <td>0.170252</td>\n",
       "      <td>130.017236</td>\n",
       "      <td>2.271629</td>\n",
       "    </tr>\n",
       "    <tr>\n",
       "      <th>59</th>\n",
       "      <td>20.53</td>\n",
       "      <td>20.53</td>\n",
       "      <td>0.515970</td>\n",
       "      <td>60</td>\n",
       "      <td>1048.684616</td>\n",
       "      <td>1048.684616</td>\n",
       "      <td>1249.001063</td>\n",
       "      <td>1249.001063</td>\n",
       "      <td>0.059110</td>\n",
       "      <td>0.194380</td>\n",
       "      <td>0.560237</td>\n",
       "      <td>0.419249</td>\n",
       "      <td>0.419249</td>\n",
       "      <td>0.419237</td>\n",
       "      <td>0.419249</td>\n",
       "      <td>120.416293</td>\n",
       "      <td>8.737719</td>\n",
       "    </tr>\n",
       "    <tr>\n",
       "      <th>60</th>\n",
       "      <td>18.94</td>\n",
       "      <td>18.94</td>\n",
       "      <td>0.464243</td>\n",
       "      <td>61</td>\n",
       "      <td>1117.942575</td>\n",
       "      <td>1117.942575</td>\n",
       "      <td>1098.671744</td>\n",
       "      <td>1098.671744</td>\n",
       "      <td>0.031265</td>\n",
       "      <td>0.130406</td>\n",
       "      <td>0.407252</td>\n",
       "      <td>0.306118</td>\n",
       "      <td>0.306118</td>\n",
       "      <td>0.306111</td>\n",
       "      <td>0.306118</td>\n",
       "      <td>115.379548</td>\n",
       "      <td>7.253525</td>\n",
       "    </tr>\n",
       "  </tbody>\n",
       "</table>\n",
       "<p>61 rows × 17 columns</p>\n",
       "</div>"
      ],
      "text/plain": [
       "     area  area_ac     ce_ac  id       petmed    petmed_ac      precmed  \\\n",
       "0   20.65  1024.72  0.521664   1  1140.503002  1170.469626  1426.718618   \n",
       "1   24.65  1004.07  0.521466   2  1155.888148  1171.085929  1418.350301   \n",
       "2   15.12   974.34  0.521524   3  1232.473882  1171.732896  1416.974138   \n",
       "3   19.96   475.47  0.526726   4  1203.689600  1203.261182  1445.200076   \n",
       "4    5.08     5.08  0.515827   5  1120.743345  1120.743345  1359.768050   \n",
       "..    ...      ...       ...  ..          ...          ...          ...   \n",
       "56   8.78     8.78  0.514268  57  1094.562920  1094.562920  1320.330389   \n",
       "57  13.30    41.58  0.478318  58  1097.768205  1109.008055  1189.818277   \n",
       "58   9.34     9.34  0.482994  59  1106.895657  1106.895657  1190.992177   \n",
       "59  20.53    20.53  0.515970  60  1048.684616  1048.684616  1249.001063   \n",
       "60  18.94    18.94  0.464243  61  1117.942575  1117.942575  1098.671744   \n",
       "\n",
       "     precmed_ac    q20_ac    q50_ac     q80_ac      qmed    qmed_ac  \\\n",
       "0   1400.873819  3.567531  9.929130  29.583512  0.495812  23.729623   \n",
       "1   1400.342288  3.489507  9.732179  28.922108  0.576473  23.233811   \n",
       "2   1400.098245  3.349981  9.440863  27.954189  0.344303  22.544429   \n",
       "3   1444.052185  1.700874  4.797286  14.124270  0.475022  11.460053   \n",
       "4   1359.768050  0.016432  0.043531   0.139631  0.112909   0.112909   \n",
       "..          ...       ...       ...        ...       ...        ...   \n",
       "56  1320.330389  0.028519  0.092302   0.255085  0.188913   0.188913   \n",
       "57  1148.564042  0.082100  0.317070   0.961296  0.247485   0.723856   \n",
       "58  1190.992177  0.022138  0.079605   0.229193  0.170252   0.170252   \n",
       "59  1249.001063  0.059110  0.194380   0.560237  0.419249   0.419249   \n",
       "60  1098.671744  0.031265  0.130406   0.407252  0.306118   0.306118   \n",
       "\n",
       "    qmed_ac_inst   qrmed_ac        smax  tau_tramos  \n",
       "0      23.728777  23.246040   94.536271   53.970379  \n",
       "1      23.232987  22.767266  108.437085   19.314803  \n",
       "2      22.543634  22.113222   98.132814   16.200591  \n",
       "3      11.459656  11.228839  102.820311    7.112691  \n",
       "4       0.112905   0.112909  119.294433    3.751129  \n",
       "..           ...        ...         ...         ...  \n",
       "56      0.188909   0.188913  142.463175    2.375006  \n",
       "57      0.723837   0.723519  111.588953    5.540312  \n",
       "58      0.170248   0.170252  130.017236    2.271629  \n",
       "59      0.419237   0.419249  120.416293    8.737719  \n",
       "60      0.306111   0.306118  115.379548    7.253525  \n",
       "\n",
       "[61 rows x 17 columns]"
      ]
     },
     "execution_count": 26,
     "metadata": {},
     "output_type": "execute_result"
    }
   ],
   "source": [
    "Resultados_tramos"
   ]
  },
  {
   "cell_type": "markdown",
   "id": "b57323bc",
   "metadata": {},
   "source": [
    "### Series temporales:"
   ]
  },
  {
   "cell_type": "code",
   "execution_count": 27,
   "id": "0a1d6ec8",
   "metadata": {
    "ExecuteTime": {
     "end_time": "2023-02-10T09:50:25.655726Z",
     "start_time": "2023-02-10T09:50:17.895000Z"
    }
   },
   "outputs": [
    {
     "name": "stdout",
     "output_type": "stream",
     "text": [
      "Runing MELCA ...\n",
      "Writing tables ...\n",
      "Finished\n"
     ]
    }
   ],
   "source": [
    "global_tau=0.1\n",
    "Saja_series=MELCA(sub_catchment_id,initial_date,final_date,True,global_tau,snow)\n",
    "print('Finished')"
   ]
  },
  {
   "cell_type": "code",
   "execution_count": 17,
   "id": "1f2b8a65",
   "metadata": {
    "ExecuteTime": {
     "end_time": "2023-02-10T08:16:52.239078Z",
     "start_time": "2023-02-10T08:16:52.220082Z"
    }
   },
   "outputs": [
    {
     "data": {
      "text/html": [
       "<div>\n",
       "<style scoped>\n",
       "    .dataframe tbody tr th:only-of-type {\n",
       "        vertical-align: middle;\n",
       "    }\n",
       "\n",
       "    .dataframe tbody tr th {\n",
       "        vertical-align: top;\n",
       "    }\n",
       "\n",
       "    .dataframe thead th {\n",
       "        text-align: right;\n",
       "    }\n",
       "</style>\n",
       "<table border=\"1\" class=\"dataframe\">\n",
       "  <thead>\n",
       "    <tr style=\"text-align: right;\">\n",
       "      <th></th>\n",
       "      <th>qinst</th>\n",
       "      <th>qinst_ac</th>\n",
       "      <th>qr</th>\n",
       "      <th>qsim</th>\n",
       "      <th>qsim_ac</th>\n",
       "    </tr>\n",
       "  </thead>\n",
       "  <tbody>\n",
       "    <tr>\n",
       "      <th>0</th>\n",
       "      <td>0.419744</td>\n",
       "      <td>19.798102</td>\n",
       "      <td>19.798102</td>\n",
       "      <td>0.419744</td>\n",
       "      <td>19.798102</td>\n",
       "    </tr>\n",
       "    <tr>\n",
       "      <th>1</th>\n",
       "      <td>0.299009</td>\n",
       "      <td>14.562246</td>\n",
       "      <td>18.654409</td>\n",
       "      <td>0.368559</td>\n",
       "      <td>17.303536</td>\n",
       "    </tr>\n",
       "    <tr>\n",
       "      <th>2</th>\n",
       "      <td>0.211267</td>\n",
       "      <td>11.307558</td>\n",
       "      <td>15.685485</td>\n",
       "      <td>0.250430</td>\n",
       "      <td>12.879783</td>\n",
       "    </tr>\n",
       "    <tr>\n",
       "      <th>3</th>\n",
       "      <td>0.163202</td>\n",
       "      <td>9.372496</td>\n",
       "      <td>12.551373</td>\n",
       "      <td>0.185345</td>\n",
       "      <td>10.312064</td>\n",
       "    </tr>\n",
       "    <tr>\n",
       "      <th>4</th>\n",
       "      <td>0.132140</td>\n",
       "      <td>7.887467</td>\n",
       "      <td>10.170632</td>\n",
       "      <td>0.146831</td>\n",
       "      <td>8.620973</td>\n",
       "    </tr>\n",
       "    <tr>\n",
       "      <th>...</th>\n",
       "      <td>...</td>\n",
       "      <td>...</td>\n",
       "      <td>...</td>\n",
       "      <td>...</td>\n",
       "      <td>...</td>\n",
       "    </tr>\n",
       "    <tr>\n",
       "      <th>7300</th>\n",
       "      <td>0.164178</td>\n",
       "      <td>11.618470</td>\n",
       "      <td>14.594396</td>\n",
       "      <td>0.177583</td>\n",
       "      <td>12.513094</td>\n",
       "    </tr>\n",
       "    <tr>\n",
       "      <th>7301</th>\n",
       "      <td>0.143323</td>\n",
       "      <td>10.224925</td>\n",
       "      <td>12.421913</td>\n",
       "      <td>0.153349</td>\n",
       "      <td>10.913436</td>\n",
       "    </tr>\n",
       "    <tr>\n",
       "      <th>7302</th>\n",
       "      <td>0.127053</td>\n",
       "      <td>9.119436</td>\n",
       "      <td>10.814357</td>\n",
       "      <td>0.134935</td>\n",
       "      <td>9.666520</td>\n",
       "    </tr>\n",
       "    <tr>\n",
       "      <th>7303</th>\n",
       "      <td>0.113733</td>\n",
       "      <td>8.220006</td>\n",
       "      <td>9.570955</td>\n",
       "      <td>0.120229</td>\n",
       "      <td>8.665670</td>\n",
       "    </tr>\n",
       "    <tr>\n",
       "      <th>7304</th>\n",
       "      <td>0.102731</td>\n",
       "      <td>7.474154</td>\n",
       "      <td>8.577481</td>\n",
       "      <td>0.108095</td>\n",
       "      <td>7.844033</td>\n",
       "    </tr>\n",
       "  </tbody>\n",
       "</table>\n",
       "<p>7305 rows × 5 columns</p>\n",
       "</div>"
      ],
      "text/plain": [
       "         qinst   qinst_ac         qr      qsim    qsim_ac\n",
       "0     0.419744  19.798102  19.798102  0.419744  19.798102\n",
       "1     0.299009  14.562246  18.654409  0.368559  17.303536\n",
       "2     0.211267  11.307558  15.685485  0.250430  12.879783\n",
       "3     0.163202   9.372496  12.551373  0.185345  10.312064\n",
       "4     0.132140   7.887467  10.170632  0.146831   8.620973\n",
       "...        ...        ...        ...       ...        ...\n",
       "7300  0.164178  11.618470  14.594396  0.177583  12.513094\n",
       "7301  0.143323  10.224925  12.421913  0.153349  10.913436\n",
       "7302  0.127053   9.119436  10.814357  0.134935   9.666520\n",
       "7303  0.113733   8.220006   9.570955  0.120229   8.665670\n",
       "7304  0.102731   7.474154   8.577481  0.108095   7.844033\n",
       "\n",
       "[7305 rows x 5 columns]"
      ]
     },
     "execution_count": 17,
     "metadata": {},
     "output_type": "execute_result"
    }
   ],
   "source": [
    "Saja_series"
   ]
  },
  {
   "cell_type": "code",
   "execution_count": 18,
   "id": "0e588e7a",
   "metadata": {
    "ExecuteTime": {
     "end_time": "2023-02-10T08:16:55.656516Z",
     "start_time": "2023-02-10T08:16:55.437009Z"
    }
   },
   "outputs": [
    {
     "data": {
      "text/plain": [
       "<matplotlib.legend.Legend at 0x26270885e40>"
      ]
     },
     "execution_count": 18,
     "metadata": {},
     "output_type": "execute_result"
    },
    {
     "data": {
      "image/png": "[encoded data removed]",
      "text/plain": [
       "<Figure size 432x288 with 1 Axes>"
      ]
     },
     "metadata": {
      "needs_background": "light"
     },
     "output_type": "display_data"
    }
   ],
   "source": [
    "plt.plot(Saja_series['qsim_ac'])\n",
    "plt.plot(Saja_series['qinst_ac'])\n",
    "plt.plot(Saja_series['qr'])\n",
    "plt.xlim([250, 400])\n",
    "\n",
    "plt.xlabel('t (days)')\n",
    "plt.ylabel('q (m3/s)')\n",
    "plt.legend(['q med','q inst','qr'])\n"
   ]
  },
  {
   "cell_type": "code",
   "execution_count": null,
   "id": "d32fa6f9",
   "metadata": {},
   "outputs": [],
   "source": []
  }
 ],
 "metadata": {
  "kernelspec": {
   "display_name": "Python 3 (ipykernel)",
   "language": "python",
   "name": "python3"
  },
  "language_info": {
   "codemirror_mode": {
    "name": "ipython",
    "version": 3
   },
   "file_extension": ".py",
   "mimetype": "text/x-python",
   "name": "python",
   "nbconvert_exporter": "python",
   "pygments_lexer": "ipython3",
   "version": "3.10.9"
  },
  "toc": {
   "base_numbering": 1,
   "nav_menu": {},
   "number_sections": true,
   "sideBar": true,
   "skip_h1_title": false,
   "title_cell": "Table of Contents",
   "title_sidebar": "Contents",
   "toc_cell": false,
   "toc_position": {},
   "toc_section_display": true,
   "toc_window_display": false
  },
  "varInspector": {
   "cols": {
    "lenName": 16,
    "lenType": 16,
    "lenVar": 40
   },
   "kernels_config": {
    "python": {
     "delete_cmd_postfix": "",
     "delete_cmd_prefix": "del ",
     "library": "var_list.py",
     "varRefreshCmd": "print(var_dic_list())"
    },
    "r": {
     "delete_cmd_postfix": ") ",
     "delete_cmd_prefix": "rm(",
     "library": "var_list.r",
     "varRefreshCmd": "cat(var_dic_list()) "
    }
   },
   "types_to_exclude": [
    "module",
    "function",
    "builtin_function_or_method",
    "instance",
    "_Feature"
   ],
   "window_display": false
  }
 },
 "nbformat": 4,
 "nbformat_minor": 5
}
