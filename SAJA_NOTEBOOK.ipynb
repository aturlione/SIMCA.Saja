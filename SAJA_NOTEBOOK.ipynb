{
 "cells": [
  {
   "cell_type": "markdown",
   "id": "73e7a922",
   "metadata": {
    "heading_collapsed": true
   },
   "source": [
    "# Procedimientos para usar este Notebook"
   ]
  },
  {
   "cell_type": "markdown",
   "id": "b19f39c4",
   "metadata": {
    "hidden": true
   },
   "source": [
    "- Instalar [Anaconda](https://www.anaconda.com/)\n",
    "- Abrir el prompt de Anaconda, dirigirse al directorio de trabajo y activar el entorno virtual:\n",
    "\n",
    "    `conda env create -f entorno_SIMCA.yml`\n",
    "        \n",
    "    `conda activate entorno_SIMCA`\n",
    "\n",
    "\n",
    "- Una vez activado el entorno, ejecutar el siguiente comando en el prompt:\n",
    "\n",
    "    `jupyter notebook`"
   ]
  },
  {
   "cell_type": "markdown",
   "id": "86c2f908",
   "metadata": {
    "hidden": true
   },
   "source": [
    "Ejecutar la siguiente celda para crear directorio para datos custom:"
   ]
  },
  {
   "cell_type": "code",
   "execution_count": null,
   "id": "718f1d1b",
   "metadata": {
    "ExecuteTime": {
     "end_time": "2023-02-07T14:48:19.232268Z",
     "start_time": "2023-02-07T14:48:19.216270Z"
    },
    "hidden": true
   },
   "outputs": [],
   "source": [
    "#crear directorio Custom  \n",
    "import os\n",
    "if not os.path.exists(\"Custom\"):\n",
    "    os.makedirs(\"Custom\")"
   ]
  },
  {
   "cell_type": "markdown",
   "id": "95f47fa2",
   "metadata": {},
   "source": [
    "# Códigos "
   ]
  },
  {
   "cell_type": "markdown",
   "id": "5ad4723f",
   "metadata": {},
   "source": [
    "Códigos que ejecutan los diferentes móludos de SIMCA por medio de la API https://apiprocess.ihcantabria.com/chambo-apiprocess y devuelven las tablas con resultados."
   ]
  },
  {
   "cell_type": "code",
   "execution_count": null,
   "id": "cd9ffc70",
   "metadata": {
    "ExecuteTime": {
     "end_time": "2023-02-09T16:49:56.432198Z",
     "start_time": "2023-02-09T16:49:53.727828Z"
    }
   },
   "outputs": [],
   "source": [
    "import json\n",
    "import pandas as pd     \n",
    "import requests    \n",
    "import numpy as np\n",
    "import matplotlib.pyplot as plt"
   ]
  },
  {
   "cell_type": "code",
   "execution_count": null,
   "id": "b64fc719",
   "metadata": {
    "ExecuteTime": {
     "end_time": "2023-02-09T16:52:02.174379Z",
     "start_time": "2023-02-09T16:52:02.158387Z"
    }
   },
   "outputs": [],
   "source": [
    "def MELCA(sub_catchment_id,initial_date,final_date,series,global_tau):\n",
    "\n",
    "    url = \"https://apiprocessdev.ihcantabria.com/chambo-apiprocess/CHAMBO Models/SAJA_BESAYA\"\n",
    "\n",
    "\n",
    "    param = {\n",
    "            \"sub-catchment id\": sub_catchment_id,\n",
    "            \"initial date\": initial_date,\n",
    "            \"final date\": final_date,\n",
    "            \"series\":series,\n",
    "            \"global_tau\":global_tau\n",
    "            }    \n",
    "\n",
    "    print('Runing MELCA ...')\n",
    "\n",
    "    post_np=requests.post(url,  json =param)     \n",
    "    result=pd.DataFrame(json.loads(post_np.text))\n",
    "\n",
    "    print('Writing tables ...')\n",
    "    \n",
    "    if series:\n",
    "        result.to_csv(\"Quality_series.csv\")\n",
    "    else:\n",
    "        result.to_csv(\"MELCA_Output.csv\")  \n",
    "    \n",
    "    return result"
   ]
  },
  {
   "cell_type": "code",
   "execution_count": null,
   "id": "cd1ec797",
   "metadata": {
    "ExecuteTime": {
     "end_time": "2023-02-09T16:52:03.237835Z",
     "start_time": "2023-02-09T16:52:03.231837Z"
    }
   },
   "outputs": [],
   "source": [
    "#Parámetros\n",
    "sub_catchment_id=1 \n",
    "initial_date=\"00-01-01\"\n",
    "final_date=\"19-31-12\"\n",
    "global_tau=20"
   ]
  },
  {
   "cell_type": "markdown",
   "id": "ec718fc1",
   "metadata": {},
   "source": [
    "# Módulo MELCA"
   ]
  },
  {
   "cell_type": "code",
   "execution_count": null,
   "id": "12543e20",
   "metadata": {
    "ExecuteTime": {
     "end_time": "2023-02-09T16:53:04.573792Z",
     "start_time": "2023-02-09T16:52:57.416137Z"
    }
   },
   "outputs": [],
   "source": [
    "Resultados_tramos=MELCA(sub_catchment_id,initial_date,final_date,False,global_tau)\n",
    "print('Finished')"
   ]
  },
  {
   "cell_type": "markdown",
   "id": "34a6c41a",
   "metadata": {},
   "source": [
    "### Resultados por tramos:"
   ]
  },
  {
   "cell_type": "code",
   "execution_count": null,
   "id": "06b469b1",
   "metadata": {
    "ExecuteTime": {
     "end_time": "2023-02-09T16:53:05.622732Z",
     "start_time": "2023-02-09T16:53:05.589350Z"
    }
   },
   "outputs": [],
   "source": [
    "Resultados_tramos"
   ]
  },
  {
   "cell_type": "markdown",
   "id": "b57323bc",
   "metadata": {},
   "source": [
    "### Series temporales:"
   ]
  },
  {
   "cell_type": "code",
   "execution_count": null,
   "id": "0a1d6ec8",
   "metadata": {
    "ExecuteTime": {
     "end_time": "2023-02-09T16:58:03.254301Z",
     "start_time": "2023-02-09T16:57:55.411819Z"
    }
   },
   "outputs": [],
   "source": [
    "global_tau=0.1\n",
    "Saja_series=MELCA(sub_catchment_id,initial_date,final_date,True,global_tau)\n",
    "print('Finished')"
   ]
  },
  {
   "cell_type": "code",
   "execution_count": null,
   "id": "1f2b8a65",
   "metadata": {
    "ExecuteTime": {
     "end_time": "2023-02-09T16:58:04.330302Z",
     "start_time": "2023-02-09T16:58:04.317308Z"
    }
   },
   "outputs": [],
   "source": [
    "Saja_series"
   ]
  },
  {
   "cell_type": "code",
   "execution_count": null,
   "id": "de381f95",
   "metadata": {
    "ExecuteTime": {
     "end_time": "2023-02-09T17:02:16.331259Z",
     "start_time": "2023-02-09T17:02:14.708168Z"
    }
   },
   "outputs": [],
   "source": [
    "plt.plot(Saja_series['qsim_ac'])\n",
    "plt.plot(Saja_series['qinst_ac'])\n",
    "plt.plot(Saja_series['qr'])\n",
    "plt.xlim([250, 400])\n",
    "\n",
    "plt.xlabel('t (days)')\n",
    "plt.ylabel('q (m3/s)')\n",
    "plt.legend(['q med','q inst','qr'])\n"
   ]
  },
  {
   "cell_type": "code",
   "execution_count": null,
   "id": "383ab7c6",
   "metadata": {},
   "outputs": [],
   "source": []
  }
 ],
 "metadata": {
  "kernelspec": {
   "display_name": "Python 3 (ipykernel)",
   "language": "python",
   "name": "python3"
  },
  "language_info": {
   "codemirror_mode": {
    "name": "ipython",
    "version": 3
   },
   "file_extension": ".py",
   "mimetype": "text/x-python",
   "name": "python",
   "nbconvert_exporter": "python",
   "pygments_lexer": "ipython3",
   "version": "3.10.9"
  },
  "toc": {
   "base_numbering": 1,
   "nav_menu": {},
   "number_sections": true,
   "sideBar": true,
   "skip_h1_title": false,
   "title_cell": "Table of Contents",
   "title_sidebar": "Contents",
   "toc_cell": false,
   "toc_position": {},
   "toc_section_display": true,
   "toc_window_display": false
  },
  "varInspector": {
   "cols": {
    "lenName": 16,
    "lenType": 16,
    "lenVar": 40
   },
   "kernels_config": {
    "python": {
     "delete_cmd_postfix": "",
     "delete_cmd_prefix": "del ",
     "library": "var_list.py",
     "varRefreshCmd": "print(var_dic_list())"
    },
    "r": {
     "delete_cmd_postfix": ") ",
     "delete_cmd_prefix": "rm(",
     "library": "var_list.r",
     "varRefreshCmd": "cat(var_dic_list()) "
    }
   },
   "types_to_exclude": [
    "module",
    "function",
    "builtin_function_or_method",
    "instance",
    "_Feature"
   ],
   "window_display": false
  }
 },
 "nbformat": 4,
 "nbformat_minor": 5
}
